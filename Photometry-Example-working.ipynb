{
 "cells": [
  {
   "cell_type": "markdown",
   "metadata": {},
   "source": [
    "# Do Photometry!"
   ]
  },
  {
   "cell_type": "code",
   "execution_count": null,
   "metadata": {
    "collapsed": true
   },
   "outputs": [],
   "source": [
    "# python 2/3 compatibility\n",
    "from __future__ import print_function\n",
    "\n",
    "# numerical python\n",
    "import numpy as np\n",
    "\n",
    "# file management tools\n",
    "import glob\n",
    "import os\n",
    "\n",
    "# good module for timing tests\n",
    "import time\n",
    "\n",
    "# plotting stuff\n",
    "import matplotlib.pyplot as plt\n",
    "import matplotlib.cm as cm\n",
    "%matplotlib inline\n",
    "\n",
    "# ability to read/write fits files\n",
    "from astropy.io import fits\n",
    "\n",
    "# fancy image combination technique\n",
    "from astropy.stats import sigma_clipping\n",
    "\n",
    "# median absolute deviation: for photometry\n",
    "from astropy.stats import mad_std\n",
    "\n",
    "# photometric utilities\n",
    "from photutils import DAOStarFinder,aperture_photometry, CircularAperture, CircularAnnulus\n",
    "\n",
    "# periodograms\n",
    "from astropy.stats import LombScargle\n",
    "\n",
    "\n",
    "\n"
   ]
  },
  {
   "cell_type": "code",
   "execution_count": null,
   "metadata": {
    "collapsed": true
   },
   "outputs": [],
   "source": [
    "source = 'Taurus1'\n",
    "\n",
    "datadir='/Volumes/A341/'+source+'/'\n",
    "\n",
    "filters = ['V','R','I','Ha','Haoff']\n",
    "\n",
    "#filters = ['R']\n",
    "\n"
   ]
  },
  {
   "cell_type": "code",
   "execution_count": null,
   "metadata": {
    "collapsed": true
   },
   "outputs": [],
   "source": [
    "aprad=10.  # aperture radius\n",
    "skybuff=4.  # sky annulus inner radius\n",
    "skywidth=8.  # sky annulus outer radius\n",
    "\n",
    "\n"
   ]
  },
  {
   "cell_type": "code",
   "execution_count": null,
   "metadata": {
    "collapsed": true
   },
   "outputs": [],
   "source": [
    "# sensitivities for star finding\n",
    "nsigma=5. # detection threshold in sigma\n",
    "FWHM=7. # pixels\n"
   ]
  },
  {
   "cell_type": "markdown",
   "metadata": {},
   "source": [
    "### use a deep image to find the sources\n",
    "\n"
   ]
  },
  {
   "cell_type": "code",
   "execution_count": null,
   "metadata": {
    "collapsed": true
   },
   "outputs": [],
   "source": [
    "\n",
    "imname = glob.glob(datadir+'*R*')[0]\n",
    "\n",
    "imname = '/Volumes/AST337/reduced/deep_Taurus1_R.fits'\n",
    "\n",
    "im,hdr=fits.getdata(imname, header=True)\n",
    "bkg_sigma = mad_std(im)\n",
    "daofind = DAOStarFinder(fwhm=FWHM, threshold=nsigma*bkg_sigma, exclude_border=True)\n",
    "\n",
    "sources = daofind(im)\n",
    "\n"
   ]
  },
  {
   "cell_type": "code",
   "execution_count": null,
   "metadata": {
    "collapsed": true
   },
   "outputs": [],
   "source": [
    "print(len(sources))"
   ]
  },
  {
   "cell_type": "markdown",
   "metadata": {},
   "source": [
    "### use a plate-solved image to auto-match stars"
   ]
  },
  {
   "cell_type": "code",
   "execution_count": null,
   "metadata": {
    "collapsed": true
   },
   "outputs": [],
   "source": [
    "from HDI_io import construct_astrometry"
   ]
  },
  {
   "cell_type": "code",
   "execution_count": null,
   "metadata": {
    "collapsed": true
   },
   "outputs": [],
   "source": [
    "# check the coordinate options\n",
    "hdulist = fits.open('/Volumes/A341/solved'+source+'.fits')\n",
    "\n",
    "\n",
    "hdr_wcs = hdulist[0].header\n",
    "\n",
    "world = construct_astrometry(hdr_wcs)\n",
    "\n"
   ]
  },
  {
   "cell_type": "code",
   "execution_count": null,
   "metadata": {
    "collapsed": true
   },
   "outputs": [],
   "source": [
    "Luhman = np.genfromtxt('Luhman16.txt',\\\n",
    "                        dtype={'names': (\"RA\",\"Dec\",\"Flag\",\"RAJ2000\",\"DEJ2000\",\\\n",
    "                                         \"Name\",\"Types\",\"Date\",\"Type\",\"AJ\",\"a\",\\\n",
    "                                         \"b\",\"c\",\"2Mass\"),\\\n",
    "                             'formats': ('f16','f16','S20','S20','S20',\\\n",
    "                                        'S20','S20','S20','S20','f8','S20',\\\n",
    "                                        'S20','S20','S20')},\\\n",
    "                 skip_header=63,delimiter=';')\n",
    "\n",
    "\n"
   ]
  },
  {
   "cell_type": "markdown",
   "metadata": {},
   "source": [
    "#### I also used a GAIA sourcelist to do cross matching"
   ]
  },
  {
   "cell_type": "code",
   "execution_count": null,
   "metadata": {
    "collapsed": true
   },
   "outputs": [],
   "source": [
    "GAIA = np.genfromtxt('/Users/mpetersen/Desktop/taurus1-result.csv',\\\n",
    "                        dtype={'names': (\"source_id\",\"ra\",\"ra_error\",\"dec\",\"dec_error\",\\\n",
    "                                         \"parallax\",\"parallax_error\",\"phot_g_mean_mag\",\"bp_rp\",\\\n",
    "                                         \"radial_velocity\",\"radial_velocity_error\",\"phot_variable_flag\",\\\n",
    "                                         \"teff_val\",\"a_g_val\"),\\\n",
    "                             'formats': ('f16','f16','f16','f16','f16',\\\n",
    "                                        'f16','f16','f16','f16',\\\n",
    "                                         'f16','f16','S20',\\\n",
    "                                        'f16','f16')},\\\n",
    "                 skip_header=1,delimiter=',')\n",
    "\n",
    "\n"
   ]
  },
  {
   "cell_type": "code",
   "execution_count": null,
   "metadata": {
    "collapsed": true
   },
   "outputs": [],
   "source": [
    "# place limits on stars that are at roughly the taurus distance\n",
    "\n",
    "parall = 1000./GAIA['parallax'][GAIA['parallax'].argsort()]\n",
    "\n",
    "gparall = np.where( (parall < 1000) & (parall > 50))\n",
    "#plt.plot(parall[gparall],drawstyle='steps-mid')\n"
   ]
  },
  {
   "cell_type": "code",
   "execution_count": null,
   "metadata": {
    "collapsed": true
   },
   "outputs": [],
   "source": [
    "taura,taudec = world.all_pix2world(xpos,ypos,0)"
   ]
  },
  {
   "cell_type": "code",
   "execution_count": null,
   "metadata": {
    "collapsed": true
   },
   "outputs": [],
   "source": [
    "\n",
    "# one arcsecond matching\n",
    "tol = 1./3600.\n",
    "ngood=0\n",
    "\n",
    "f = open(source+'_gaia.reg','w')\n",
    "\n",
    "\n",
    "\n",
    "for src in range(0,len(GAIA['ra'])):\n",
    "\n",
    "    dist = ( (np.cos(GAIA['dec'][src]*np.pi/180.)*(GAIA['ra'][src] - taura))**2.0 + \\\n",
    "                (GAIA['dec'][src] - taudec)**2.0 )**0.5\n",
    "        \n",
    "        \n",
    "        # record the LMT values for later comparison\n",
    "        #min_distribution[indx,2] = list1['Pointy'][indx]\n",
    "        #min_distribution[indx,3] = list1['Blobby'][indx]\n",
    "\n",
    "        \n",
    "    x = np.where(dist==np.min(dist))[0][0]\n",
    "    if np.min(dist) <= tol:\n",
    "        ngood += 1\n",
    "        \n",
    "        if (1000./GAIA['parallax'][src] < 160) & (1000./GAIA['parallax'][src] > 120):\n",
    "            f.write('circle '+str(xpos[x])+' '+str(ypos[x])+' '+str(int(aprad))+' # width=4 color=blue\\n') # or whatever you want the radius to be!\n",
    "            print(x)\n",
    "        #else:\n",
    "            #f.write('circle '+str(xpos[x])+' '+str(ypos[x])+' '+str(int(aprad))+' # width=4 color=red\\n') # or whatever you want the radius to be!\n",
    "        \n",
    "        \n",
    "print(ngood)\n",
    "      \n",
    "f.close()"
   ]
  },
  {
   "cell_type": "markdown",
   "metadata": {
    "collapsed": true
   },
   "source": [
    "### use daophot values to determine which sources have trouble with nebulosity"
   ]
  },
  {
   "cell_type": "code",
   "execution_count": null,
   "metadata": {
    "collapsed": true
   },
   "outputs": [],
   "source": [
    "plt.scatter(sources['sharpness'],sources['roundness1'],color='black',s=1.)\n",
    "plt.scatter(sources['sharpness'],sources['roundness2'],color='red',s=1.)"
   ]
  },
  {
   "cell_type": "code",
   "execution_count": null,
   "metadata": {
    "collapsed": true
   },
   "outputs": [],
   "source": [
    "# apply sharpness and roundness cuts (somewhat ad hoc)\n",
    "w = np.where( (sources['sharpness']>0.3) & (sources['sharpness']<0.9)\\\n",
    "             &(sources['roundness1']>-0.5) & (sources['roundness1']<0.5)\\\n",
    "             &(sources['roundness2']>-0.5) & (sources['roundness2']<0.5))\n",
    "\n",
    "xpos = np.array(sources['xcentroid'])\n",
    "ypos = np.array(sources['ycentroid'])\n",
    "\n",
    "#xpos = xpos[w]\n",
    "#ypos = ypos[w]\n",
    "\n",
    "print(len(xpos))\n",
    "\n",
    "nstars = len(xpos)\n",
    "#positions = (sources['xcentroid'], sources['ycentroid'])\n",
    "positions = (xpos,ypos)\n",
    "\n"
   ]
  },
  {
   "cell_type": "markdown",
   "metadata": {},
   "source": [
    "### match the cleaned list to Luhman's Taurus catalog"
   ]
  },
  {
   "cell_type": "code",
   "execution_count": null,
   "metadata": {
    "collapsed": true
   },
   "outputs": [],
   "source": [
    "\n",
    "f = open(source+'taurussources.reg','w')\n",
    "\n",
    "\n",
    "for star in range(0,len(Luhman[\"RA\"])):\n",
    "    try:\n",
    "        x,y = world.all_world2pix(np.array(Luhman[\"RA\"][star]).astype(np.float64),np.array(Luhman[\"Dec\"][star]).astype(np.float64),0)\n",
    "\n",
    "\n",
    "\n",
    "        #lon, lat = w.wcs_world2pix(Luhman[\"RA\"][star],Luhman[\"Dec\"][star])\n",
    "        if ((x >= 0) & (x<hdulist[0].data.shape[0])\\\n",
    "            &(y >= 0) & (y<hdulist[0].data.shape[1])):\n",
    "            \n",
    "            \n",
    "            snum = np.where( (np.abs(x - xpos) < 10.) &\\\n",
    "                          (np.abs(y - ypos) < 10.))[0]\n",
    "            \n",
    "            print(Luhman[\"Name\"][star],np.round(x,0),np.round(y,0),snum)\n",
    "\n",
    "            f.write('circle '+str(np.round(x,0))+' '+str(np.round(y,0))+' '+str(int(aprad))+' # width=4 color=red\\n') # or whatever you want the radius to be!\n",
    "\n",
    "\n",
    "\n",
    "    except:\n",
    "        pass\n",
    "\n",
    "\n",
    "\n",
    "f.close()\n",
    "\n",
    "\n"
   ]
  },
  {
   "cell_type": "markdown",
   "metadata": {},
   "source": [
    "Print the sourcelist to RA-Dec coordinates"
   ]
  },
  {
   "cell_type": "code",
   "execution_count": null,
   "metadata": {
    "collapsed": true
   },
   "outputs": [],
   "source": [
    "\n",
    "f = open(source+'sources.txt','w')\n",
    "for i in range(0,nstars):\n",
    "    xout,yout = world.all_pix2world(xpos[i],ypos[i],0)\n",
    "\n",
    "    f.write(str(i)+' '+str(xout)+' '+str(yout)+'\\n')\n",
    "\n",
    "\n",
    "f.close()"
   ]
  },
  {
   "cell_type": "markdown",
   "metadata": {},
   "source": [
    "Also print in pixel coordinates for ds9"
   ]
  },
  {
   "cell_type": "code",
   "execution_count": null,
   "metadata": {
    "collapsed": true
   },
   "outputs": [],
   "source": [
    "\n",
    "f = open(source+'sources.reg','w')\n",
    "for i in range(0,nstars):\n",
    "    f.write('circle '+str(xpos[i])+' '+str(ypos[i])+' '+str(int(aprad))+' # width=4 color=red\\n') # or whatever you want the radius to be!\n",
    "    f.write('circle '+str(xpos[i])+' '+str(ypos[i])+' '+str(int(aprad+skybuff))+' # width=4 color=blue\\n') # or whatever you want the radius to be!\n",
    "    f.write('circle '+str(xpos[i])+' '+str(ypos[i])+' '+str(int(aprad+skybuff+skywidth))+' # width=4 color=blue\\n') # or whatever you want the radius to be!\n",
    "\n",
    "\n",
    "\n",
    "f.close()"
   ]
  },
  {
   "cell_type": "markdown",
   "metadata": {},
   "source": [
    "## Run Photometry on Everything"
   ]
  },
  {
   "cell_type": "code",
   "execution_count": null,
   "metadata": {
    "collapsed": true
   },
   "outputs": [],
   "source": [
    "# make the master list of apertures\n",
    "\n",
    "apertures = CircularAperture(positions, r=aprad)\n",
    "annulus_apertures = CircularAnnulus(positions, r_in=aprad+skybuff, r_out=aprad+skybuff+skywidth)\n",
    "apers = [apertures, annulus_apertures]\n",
    "\n",
    "area_of_ap = apertures.area()\n",
    "area_of_background = annulus_apertures.area()\n",
    "\n"
   ]
  },
  {
   "cell_type": "code",
   "execution_count": null,
   "metadata": {
    "collapsed": true
   },
   "outputs": [],
   "source": [
    "# this defines a box for noise properties. \n",
    "#it's best if it's empty...but won't be too thrown by faint stars.\n",
    "\n",
    "boxsize = 200\n",
    "xboxcorner = 2500\n",
    "yboxcorner = 3000\n",
    "\n",
    "GAIN = 1.3\n",
    "\n"
   ]
  },
  {
   "cell_type": "markdown",
   "metadata": {},
   "source": [
    "Get ready to wait..."
   ]
  },
  {
   "cell_type": "code",
   "execution_count": null,
   "metadata": {
    "collapsed": true,
    "scrolled": true
   },
   "outputs": [],
   "source": [
    "\n",
    "Photometry = {}\n",
    "ePhotometry = {}\n",
    "Times = {}\n",
    "\n",
    "\n",
    "for filtername in filters:\n",
    "    \n",
    "    # need the trailing '_' to avoid Ha/Haoff confusion\n",
    "    imglist = glob.glob(datadir+'*'+filtername+'_*.fits')\n",
    "\n",
    "    nimages = len(imglist)\n",
    "    \n",
    "    print('Found {} images'.format(nimages))\n",
    "    \n",
    "    # initialize the array\n",
    "    Photometry[filtername] = np.zeros([nimages,nstars])\n",
    "    ePhotometry[filtername] = np.zeros([nimages,nstars])\n",
    "    Times[filtername] = np.zeros(nimages)\n",
    "\n",
    "\n",
    "\n",
    "    for imgnum in range(0,nimages):\n",
    "        \n",
    "        print(imglist[imgnum].split('/')[-1])\n",
    "\n",
    "        data_image,hdr = fits.getdata(imglist[imgnum],header=True)\n",
    "        Times[filtername][imgnum] = hdr['MJD-OBS']\n",
    "        \n",
    "        # do the photometry!\n",
    "        phot_table = aperture_photometry(data_image, apers)\n",
    "\n",
    "        flux0 = np.array(phot_table['aperture_sum_0']) - \\\n",
    "        (area_of_ap/area_of_background)*np.array(phot_table['aperture_sum_1'])\n",
    "\n",
    "        #\n",
    "        \n",
    "        # stuff into a new matrix\n",
    "        #\n",
    "        Photometry[filtername][imgnum] = flux0\n",
    "        \n",
    "        #\n",
    "        # error stuff\n",
    "        #\n",
    "        skyvar = np.std(data_image[xboxcorner:xboxcorner+boxsize,yboxcorner:yboxcorner+boxsize])**2.\n",
    "    \n",
    "        # want to check and make sure this is actually background (percentile check?)\n",
    "    \n",
    "        err1 = area_of_ap * skyvar  # scatter in sky values\n",
    "    \n",
    "        err2 = flux0/GAIN # Poisson error\n",
    "    \n",
    "        err3 = skyvar*(area_of_ap)**2./(boxsize*boxsize) # uncertainty in mean sky brightness\n",
    "    \n",
    "        #print ('Scatter in sky values: ',err1**0.5,', uncertainty in mean sky brightness: ',err3**0.5)\n",
    "    \n",
    "        errtot = (err1 + err2 + err3)**0.5\n",
    "        \n",
    "        #now we need error handling...\n",
    "        ePhotometry[filtername][imgnum] = errtot\n",
    "        \n",
    "        # should likely also do cleaning here, to nan out negative values\n",
    "        Photometry[filtername][imgnum][Photometry[filtername][imgnum] <= 0.] = np.nan\n",
    "        \n",
    "        \n",
    "        \n"
   ]
  },
  {
   "cell_type": "code",
   "execution_count": null,
   "metadata": {
    "collapsed": true
   },
   "outputs": [],
   "source": [
    "# detrend all stars\n",
    "\n",
    "\n",
    "cPhotometry = {}\n",
    "\n",
    "for filtername in filters:\n",
    "\n",
    "    nimages = len(Photometry[filtername][:,0])\n",
    "    imgindex = np.arange(0,nimages,1)\n",
    "    cPhotometry[filtername] = np.zeros_like(Photometry[filtername])\n",
    "\n",
    "\n",
    "    # get median flux value for each star (find percent change)\n",
    "    for star in range(0,nstars):\n",
    "        # apply an SN cut?\n",
    "        SNval = Photometry[filtername][:,star]/ePhotometry[filtername][:,star]\n",
    "        \n",
    "        low_sn = np.where(SNval < 3.)\n",
    "        # blank out bad photometry\n",
    "        #print(len(low_sn[0]))\n",
    "        Photometry[filtername][low_sn,star] = np.nan\n",
    "        \n",
    "        # now find the median\n",
    "        med_val = np.nanmedian(Photometry[filtername][:,star]) \n",
    "        \n",
    "        if med_val <= 0.0: # known bad photometry\n",
    "            cPhotometry[filtername][:,star] = Photometry[filtername][:,star]*np.nan\n",
    "        else:\n",
    "            cPhotometry[filtername][:,star] = Photometry[filtername][:,star]/med_val\n",
    "            \n",
    "        # do a check for outlier photometry?\n",
    "        \n",
    "\n",
    "\n",
    "    # remove large-scale image-to-image variation to find best stars\n",
    "    for night in range(0,nimages):\n",
    "        cPhotometry[filtername][night,:] = cPhotometry[filtername][night,:]/np.nanmedian(cPhotometry[filtername][night])\n",
    "\n",
    "    # eliminate stars with outliers from consideration\n",
    "    for star in range(0,nstars):\n",
    "        w = np.where( (cPhotometry[filtername][:,star] < 0.5) | (cPhotometry[filtername][:,star] > 1.5))\n",
    "        cPhotometry[filtername][w,star] = np.nan\n",
    "        \n",
    "\n",
    "for filtername in filters:\n",
    "    \n",
    "    plt.figure()\n",
    "    # check how we did via plot\n",
    "    for star in range(0,100):\n",
    "        plt.scatter(Times[filtername]-np.nanmin(Times[filtername]),cPhotometry[filtername][:,star],s=1.,color='black')\n",
    "\n",
    "\n",
    "\n",
    "    plt.ylim(-1.,4.)\n",
    "    plt.xlim(0,np.max(Times[filtername]-np.nanmin(Times[filtername])))\n",
    "\n",
    "    plt.ylabel('Observation Time [days]')\n",
    "    plt.xlabel('Image Number')\n",
    "    plt.title(filtername)"
   ]
  },
  {
   "cell_type": "code",
   "execution_count": null,
   "metadata": {
    "collapsed": true
   },
   "outputs": [],
   "source": [
    "\n",
    "\n",
    "for filtername in filters:\n",
    "    plt.figure()\n",
    "    # check how individual nights did\n",
    "    night_err = np.nanstd(cPhotometry[filtername],axis=1)\n",
    "    plt.scatter(Times[filtername]-np.nanmin(Times[filtername]),night_err,color='black',s=3.)\n",
    "    #plt.ylim(0.,0.5)\n",
    "\n",
    "    plt.ylabel('$\\sigma$',size=24)\n",
    "    plt.xlabel('Time',size=24)\n",
    "    plt.title(filtername,size=24)\n",
    "\n",
    "# might think about rejecting images that are very uncertain"
   ]
  },
  {
   "cell_type": "code",
   "execution_count": null,
   "metadata": {
    "collapsed": true
   },
   "outputs": [],
   "source": [
    "# select the stars with which to do the comparison\n",
    "\n",
    "filtername='R'\n",
    "\n",
    "star_err = np.nanstd(cPhotometry[filtername],axis=0)\n",
    "\n",
    "accuracy_threshold = 0.025\n",
    "\n",
    "# we may also want a flux cut?\n",
    "most_accurate = np.where( (star_err < accuracy_threshold) & (star_err > 0.) & (np.nanmedian(Photometry[filtername],axis=0) < 1000.) & (np.nanmedian(Photometry[filtername],axis=0) > 100.))[0]\n",
    "\n",
    "print(len(most_accurate),':',most_accurate[0:5])\n",
    "#plt.plot(star_err[star_err.argsort()])\n",
    "\n",
    "# select stars based on the R band similar brightness?\n",
    "\n",
    "# choose a representative star from different magnitude bands.\n",
    "\n",
    "plt.figure()\n",
    "\n",
    "print(np.log10(np.nanmedian(Photometry[filtername],axis=0))[most_accurate],np.log10(star_err)[most_accurate])\n",
    "\n",
    "\n",
    "\n",
    "for filtername in filters:\n",
    "    plt.figure()\n",
    "    plt.scatter(np.log10(np.nanmedian(Photometry[filtername],axis=0)),np.log10(star_err),color='black',s=1.)\n",
    "    plt.scatter(np.log10(np.nanmedian(Photometry[filtername],axis=0))[most_accurate],np.log10(star_err)[most_accurate],color='red',s=10.)\n",
    "    plt.xlabel('log Flux',size=24)\n",
    "    plt.ylabel('log Uncertainty',size=24)\n",
    "    plt.title(filtername,size=24)\n",
    "    plt.xlim(-1.,6)"
   ]
  },
  {
   "cell_type": "code",
   "execution_count": null,
   "metadata": {
    "collapsed": true
   },
   "outputs": [],
   "source": [
    "\n",
    "for filtername in filters:\n",
    "\n",
    "    plt.figure()\n",
    "    for num in most_accurate:\n",
    "\n",
    "        plt.scatter(Times[filtername]-np.nanmin(Times[filtername]),cPhotometry[filtername][:,num],color='black',s=1.)\n",
    "\n",
    "\n",
    "    plt.ylabel('Detrended Flux',size=24)\n",
    "    plt.xlabel('Time',size=24)\n",
    "    plt.title(filtername,size=24)\n",
    "\n",
    "    plt.ylim(0.8,1.2)"
   ]
  },
  {
   "cell_type": "markdown",
   "metadata": {},
   "source": [
    "## Differential Photometry!\n",
    "\n",
    "Now with the best stars for non-variability identified, perform the actual differential photometry."
   ]
  },
  {
   "cell_type": "code",
   "execution_count": null,
   "metadata": {
    "collapsed": true
   },
   "outputs": [],
   "source": [
    "# calculate each star's median value\n",
    "\n",
    "\n",
    "dPhotometry = {}\n",
    "\n",
    "# carried error from photometry\n",
    "edPhotometry = {}\n",
    "\n",
    "# error on differential photometry alone\n",
    "eedPhotometry = {}\n",
    "\n",
    "# total error\n",
    "tePhotometry = {}\n",
    "\n",
    "\n",
    "for filtername in filters:\n",
    "    print(filtername)\n",
    "    \n",
    "\n",
    "\n",
    "    \n",
    "    nimages = len(Photometry[filtername][:,0])\n",
    "    \n",
    "    imgindex = np.arange(0,nimages,1)\n",
    "\n",
    "\n",
    "\n",
    "    dPhotometry[filtername] = np.zeros_like(Photometry[filtername])\n",
    "    edPhotometry[filtername] = np.zeros_like(Photometry[filtername])\n",
    "    eedPhotometry[filtername] = np.zeros_like(Photometry[filtername])\n",
    "    tePhotometry[filtername] = np.zeros_like(Photometry[filtername])\n",
    "\n",
    "\n",
    "    for star in range(0,nstars):\n",
    "\n",
    "        tmp_phot = np.zeros([nimages,len(most_accurate)])\n",
    "\n",
    "        for compindex,comp in enumerate(most_accurate):\n",
    "            tmp_phot[:,compindex] = (Photometry[filtername][:,star]*np.nanmedian(Photometry[filtername][:,comp]))\\\n",
    "                                /(Photometry[filtername][:,comp]*np.nanmedian(Photometry[filtername][:,star]))\n",
    "\n",
    "        dPhotometry[filtername][:,star] = np.nanmedian(tmp_phot,axis=1)\n",
    "\n",
    "        # apply final scaling factors to the photometric error\n",
    "        edPhotometry[filtername][:,star] = ePhotometry[filtername][:,star]*(np.nanmedian(tmp_phot,axis=1)/Photometry[filtername][:,star])\n",
    "\n",
    "        # the differential photometry error\n",
    "        eedPhotometry[filtername][:,star] = np.nanstd(tmp_phot,axis=1)\n",
    "\n",
    "        # the differential photometry error\n",
    "        tePhotometry[filtername][:,star] = ((ePhotometry[filtername][:,star]*(np.nanmedian(tmp_phot,axis=1)/Photometry[filtername][:,star]))**2. +\\\n",
    "                                            (np.nanstd(tmp_phot,axis=1))**2.)**0.5\n",
    "\n"
   ]
  },
  {
   "cell_type": "markdown",
   "metadata": {},
   "source": [
    "## Run photometry on individual stars and make a plot with variability"
   ]
  },
  {
   "cell_type": "code",
   "execution_count": null,
   "metadata": {
    "collapsed": true
   },
   "outputs": [],
   "source": [
    "\n",
    "star = 860\n",
    "\n",
    "print(xpos[star],ypos[star])\n",
    "\n",
    "\n",
    "f = open(source+'of_interest_sources.reg','w')\n",
    "f.write('circle '+str(xpos[star])+' '+str(ypos[star])+' '+str(int(aprad))+' # width=4 color=red\\n') # or whatever you want the radius to be!\n",
    "f.write('circle '+str(xpos[star])+' '+str(ypos[star])+' '+str(int(aprad+skybuff))+' # width=4 color=blue\\n') # or whatever you want the radius to be!\n",
    "f.write('circle '+str(xpos[star])+' '+str(ypos[star])+' '+str(int(aprad+skybuff+skywidth))+' # width=4 color=blue\\n') # or whatever you want the radius to be!\n",
    "\n",
    "\n",
    "\n",
    "f.close()\n",
    "\n",
    "\n",
    "\n",
    "for fnum,filtername in enumerate(filters):\n",
    "    \n",
    "\n",
    "    TT = Times[filtername]-np.nanmin(Times[filtername])\n",
    "    DD = dPhotometry[filtername][:,star]\n",
    "    ED = tePhotometry[filtername][:,star]\n",
    "\n",
    "    w = np.where(np.isfinite(TT) & np.isfinite(DD) & np.isfinite(ED))\n",
    "    \n",
    "    print(len(w[0]))\n",
    "\n",
    "    ls = LombScargle(TT[w],DD[w],ED[w])\n",
    "    \n",
    "    try:\n",
    "        frequency, power = ls.autopower()\n",
    "    except:\n",
    "        print('failed in {}'.format(filtername))\n",
    "        continue\n",
    "        \n",
    "    fig = plt.figure(fnum,figsize=(8,3))\n",
    "\n",
    "    ax0 = fig.add_axes([0.2,0.2,0.22,0.6])\n",
    "    ax1 = fig.add_axes([0.48,0.2,0.22,0.6])\n",
    "    ax2 = fig.add_axes([0.76,0.2,0.22,0.6])\n",
    "\n",
    "\n",
    "\n",
    "\n",
    "    nimages = len(DD)\n",
    "\n",
    "\n",
    "\n",
    "\n",
    "    ax0.scatter(TT,DD,color='black',s=10.)\n",
    "\n",
    "    for num in range(0,nimages):\n",
    "        ax0.plot([TT[num],TT[num]],\\\n",
    "                 [DD[num]-ED[num],DD[num]+ED[num]],\\\n",
    "                 color='black',lw=0.75,zorder=-9)\n",
    "\n",
    "\n",
    "    ax0.set_xlabel('Time [days]',size=20)\n",
    "    ax1.set_xlabel('Period [days]',size=20)\n",
    "    ax0.set_ylabel(filtername,size=20)\n",
    "    #ax0.set_xlim(0.,3.)\n",
    "\n",
    "    ax1.plot(1./frequency,power,color='black')\n",
    "    ax1.set_xlim(0.,10.)\n",
    "    ax1.set_ylim(0.,1.)\n",
    "    \n",
    "    w = np.where( (1./frequency > 0.2) & (1./frequency < 4.))\n",
    "\n",
    "    best_frequency = frequency[w][np.argmax(power[w])]\n",
    "\n",
    "    print(1./best_frequency)\n",
    "    newtime = TT % (1./best_frequency)\n",
    "\n",
    "    #print(newtime)\n",
    "    newtime = newtime - np.round(newtime,0) + 0.5\n",
    "\n",
    "           \n",
    "    ax2.scatter((newtime)-1.0,DD,color='gray',s=5.)\n",
    "    ax2.scatter((newtime)+1.0,DD,color='gray',s=5.)\n",
    "\n",
    "\n",
    "    for num in range(0,nimages):\n",
    "        ax2.plot([newtime[num]-1.,newtime[num]-1.],\\\n",
    "             [dPhotometry[filtername][num,star]-edPhotometry[filtername][num,star],dPhotometry[filtername][num,star]+edPhotometry[filtername][num,star]],\\\n",
    "             color='gray',lw=0.5,zorder=-9)\n",
    "        ax2.plot([newtime[num]+1.,newtime[num]+1.],\\\n",
    "             [dPhotometry[filtername][num,star]-edPhotometry[filtername][num,star],dPhotometry[filtername][num,star]+edPhotometry[filtername][num,star]],\\\n",
    "             color='gray',lw=0.5,zorder=-9)\n",
    "        ax2.plot([newtime[num],newtime[num]],\\\n",
    "             [dPhotometry[filtername][num,star]-edPhotometry[filtername][num,star],dPhotometry[filtername][num,star]+edPhotometry[filtername][num,star]],\\\n",
    "             color='black',lw=0.75,zorder=-9)\n",
    "\n",
    "\n",
    "\n",
    "\n",
    "    ax2.scatter((newtime),DD,color='black',s=15.)\n",
    "    \n",
    "\n",
    "\n",
    "    ax2.plot([-.5,1.5],[1.,1.],color='red',linestyle='dashed')\n",
    "    ax2.set_xlabel('Phase',size=20)\n",
    "    #ax2.set_ylabel('Relative Photometry',size=24)\n",
    "    ax2.set_xlim(-0.5,1.5)"
   ]
  },
  {
   "cell_type": "code",
   "execution_count": null,
   "metadata": {
    "collapsed": true
   },
   "outputs": [],
   "source": [
    "limits = np.arange(1,8.6,0.5)\n",
    "print(limits)\n",
    "\n",
    "period_days = 1./frequency\n",
    "\n",
    "for value in range(1,len(limits)):\n",
    "    w = np.where( (period_days > limits[value-1]) & (period_days < limits[value]))\n",
    "    \n",
    "    try:\n",
    "        best_period = period_days[w][np.argmax(power[w])]\n",
    "        best_power  = power[w][np.argmax(power[w])]\n",
    "\n",
    "        print(best_period,best_power)\n",
    "        \n",
    "    except:\n",
    "        print('No Maximum for {}-{}'.format(limits[value-1],limits[value]))\n",
    "\n"
   ]
  },
  {
   "cell_type": "code",
   "execution_count": null,
   "metadata": {
    "collapsed": true
   },
   "outputs": [],
   "source": []
  },
  {
   "cell_type": "code",
   "execution_count": null,
   "metadata": {
    "collapsed": true
   },
   "outputs": [],
   "source": []
  },
  {
   "cell_type": "code",
   "execution_count": null,
   "metadata": {
    "collapsed": true
   },
   "outputs": [],
   "source": []
  },
  {
   "cell_type": "code",
   "execution_count": null,
   "metadata": {
    "collapsed": true
   },
   "outputs": [],
   "source": []
  },
  {
   "cell_type": "code",
   "execution_count": null,
   "metadata": {
    "collapsed": true
   },
   "outputs": [],
   "source": []
  }
 ],
 "metadata": {
  "anaconda-cloud": {},
  "kernelspec": {
   "display_name": "Python 2",
   "language": "python",
   "name": "python2"
  },
  "language_info": {
   "codemirror_mode": {
    "name": "ipython",
    "version": 2
   },
   "file_extension": ".py",
   "mimetype": "text/x-python",
   "name": "python",
   "nbconvert_exporter": "python",
   "pygments_lexer": "ipython2",
   "version": "2.7.12"
  }
 },
 "nbformat": 4,
 "nbformat_minor": 1
}
