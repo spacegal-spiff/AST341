{
 "cells": [
  {
   "cell_type": "code",
   "execution_count": null,
   "metadata": {
    "collapsed": false
   },
   "outputs": [],
   "source": [
    "# python 2/3 compatibility\n",
    "from __future__ import print_function\n",
    "\n",
    "# numerical python\n",
    "import numpy as np\n",
    "\n",
    "# file management tools\n",
    "import glob\n",
    "\n",
    "# plotting stuff\n",
    "import matplotlib.pyplot as plt\n",
    "%matplotlib inline\n",
    "\n",
    "# ability to read/write fits files\n",
    "from astropy.io import fits"
   ]
  },
  {
   "cell_type": "markdown",
   "metadata": {},
   "source": [
    "# In-class Coding Quiz #1: Working with FITS files and Flatfielding\n",
    "\n",
    "***\n",
    "\n",
    "### Name: (double-click to replace with your name)\n",
    "\n",
    "***\n",
    "<div class=\"alert alert-block alert-info\">\n",
    "This is a **closed-everything individual quiz**, which covers fundamental Python techniques needed to work with FITS images. This is a good chance to test skills you will need during the rest of the semester!\n",
    "<p>\n",
    "Answer as many portions of the quiz as possible and upload your completed notebook to Moodle when finished.\n",
    "</div>"
   ]
  },
  {
   "cell_type": "markdown",
   "metadata": {},
   "source": [
    "## Checking Header Information\n",
    "This directory contains this notebook and six FITS images: three flatfields, and three science images.\n",
    "\n",
    "**Important Note:** The images provided have already been bias-corrected and turned into mosaiced images (all four quadrants), and the overscan regions have been removed.\n",
    "\n",
    "*** \n",
    "\n",
    "### #1: Which images are flatfields? Which are science images? \n",
    "Use glob.glob with wildcards (`*`) to create two lists, `flatlist` and `scilist`, of file names."
   ]
  },
  {
   "cell_type": "code",
   "execution_count": null,
   "metadata": {
    "collapsed": false
   },
   "outputs": [],
   "source": [
    "# Your code and answer here. Feel free to add cells if necessary.\n",
    "flatlist = \n",
    "\n",
    "scilist = \n"
   ]
  },
  {
   "cell_type": "markdown",
   "metadata": {},
   "source": [
    "### #2: What filters were these FITS images taken in? Use the header keywords to check."
   ]
  },
  {
   "cell_type": "code",
   "execution_count": null,
   "metadata": {
    "collapsed": true
   },
   "outputs": [],
   "source": [
    "# Your code and answer here. Feel free to add cells if necessary.\n",
    "\n"
   ]
  },
  {
   "cell_type": "markdown",
   "metadata": {},
   "source": [
    "### #3: What exposure times do the flat and science images have? Again, use header keywords."
   ]
  },
  {
   "cell_type": "code",
   "execution_count": null,
   "metadata": {
    "collapsed": true
   },
   "outputs": [],
   "source": [
    "# Your code and answer here. Feel free to add cells if necessary.\n",
    "\n"
   ]
  },
  {
   "cell_type": "markdown",
   "metadata": {},
   "source": [
    "## Create a Master Flat"
   ]
  },
  {
   "cell_type": "markdown",
   "metadata": {},
   "source": [
    "In the following cells, you will re-create the flatfielding function you worked on this week, one piece at a time."
   ]
  },
  {
   "cell_type": "markdown",
   "metadata": {},
   "source": [
    "### #4: Create a 3D array of the flatfields, with the variable name `flatstack`:"
   ]
  },
  {
   "cell_type": "code",
   "execution_count": null,
   "metadata": {
    "collapsed": true
   },
   "outputs": [],
   "source": [
    "# Your code and answer here. Feel free to add cells as necessary.\n",
    "\n"
   ]
  },
  {
   "cell_type": "markdown",
   "metadata": {},
   "source": [
    "### #5: Median-combine the stack, then normalize the output, to create a single master flatfield (`masterflat`). "
   ]
  },
  {
   "cell_type": "code",
   "execution_count": null,
   "metadata": {
    "collapsed": true
   },
   "outputs": [],
   "source": [
    "# Your code and answer here. Feel free to add cells as necessary.\n",
    "\n"
   ]
  },
  {
   "cell_type": "markdown",
   "metadata": {},
   "source": [
    "### #6: Save your new master flat as a new FITS file (`masterflat.fits`) with a header.\n",
    "\n",
    "Hint: Use the header from the zeroth flat to provide a header to your new FITS file."
   ]
  },
  {
   "cell_type": "code",
   "execution_count": null,
   "metadata": {
    "collapsed": true
   },
   "outputs": [],
   "source": [
    "# Your code and answer here. Feel free to add cells as necessary.\n",
    "\n"
   ]
  },
  {
   "cell_type": "markdown",
   "metadata": {},
   "source": [
    "### #7: Use a for-loop to flatfield your three science images, and save them as new FITS files."
   ]
  },
  {
   "cell_type": "code",
   "execution_count": null,
   "metadata": {
    "collapsed": true
   },
   "outputs": [],
   "source": [
    "# Your code and answer here. Feel free to add cells as necessary.\n",
    "\n"
   ]
  }
 ],
 "metadata": {
  "kernelspec": {
   "display_name": "Python 2",
   "language": "python",
   "name": "python2"
  },
  "language_info": {
   "codemirror_mode": {
    "name": "ipython",
    "version": 2
   },
   "file_extension": ".py",
   "mimetype": "text/x-python",
   "name": "python",
   "nbconvert_exporter": "python",
   "pygments_lexer": "ipython2",
   "version": "2.7.12"
  }
 },
 "nbformat": 4,
 "nbformat_minor": 0
}
