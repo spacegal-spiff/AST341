{
 "cells": [
  {
   "cell_type": "code",
   "execution_count": null,
   "metadata": {
    "collapsed": false
   },
   "outputs": [],
   "source": [
    "# Some standard definitions and some new:\n",
    "import numpy as np\n",
    "from astropy.stats import LombScargle\n",
    "import matplotlib.pyplot as plt\n",
    "import pandas as pd\n",
    "\n",
    "# fancy plot layouts! see http://www.futurile.net/2016/02/27/matplotlib-beautiful-plots-with-style/\n",
    "# print(plt.style.available) to see the list.\n",
    "plt.style.use('seaborn-whitegrid') \n",
    "%matplotlib inline"
   ]
  },
  {
   "cell_type": "markdown",
   "metadata": {},
   "source": [
    "# Getting Started with Lomb-Scargle Periodograms in Python\n",
    "\n",
    "This notebook exercise is meant to familiarize you with applying periodogram analyses to real data. You will need to complete cells and add comments as necessary, then submit your final notebook on Moodle.\n",
    "\n",
    "For deeper reading and more information on periodogram analysis, see: \n",
    "\n",
    "_Understanding the Lomb-Scargle Periodogram_, by Jake VanderPlas  \n",
    "https://arxiv.org/abs/1703.09824\n",
    "\n",
    "(Notebook material adapted from Jupyter notebooks by J. VanderPlas, available on Github)\n",
    "\n",
    "### Due Monday, April 2nd at 12 pm on Moodle"
   ]
  },
  {
   "cell_type": "markdown",
   "metadata": {},
   "source": [
    "## Group Names:"
   ]
  },
  {
   "cell_type": "code",
   "execution_count": null,
   "metadata": {
    "collapsed": false
   },
   "outputs": [],
   "source": [
    "# Create a set of synthetic data with sinusoidal variation over time\n",
    "\n",
    "rand = np.random.RandomState(42)\n",
    "t = 100 * rand.rand(100)\n",
    "y = np.sin(2 * np.pi * 2.0 * t) + 0.1 * rand.randn(100)\n",
    "\n",
    "# generate some errorbars\n",
    "dy = 0.1 * (1 + rand.rand(100))"
   ]
  },
  {
   "cell_type": "markdown",
   "metadata": {},
   "source": [
    "## In the cell below, plot the synthetic data set ```(t, y)``` with errorbars ```(dy)```:"
   ]
  },
  {
   "cell_type": "code",
   "execution_count": null,
   "metadata": {
    "collapsed": false
   },
   "outputs": [],
   "source": [
    "# Your code here:\n",
    "\n"
   ]
  },
  {
   "cell_type": "markdown",
   "metadata": {},
   "source": [
    "### Q: Can you see a periodic signal within this dataset? What signal might we expect based on how the synthetic data were created?\n",
    "\n",
    "### Answer:\n",
    "\n",
    "(your answer here)\n"
   ]
  },
  {
   "cell_type": "markdown",
   "metadata": {},
   "source": [
    "### The periodogram analysis can be as simple as one step (!), below. \n",
    "\n",
    "You can read the documentation here: http://docs.astropy.org/en/stable/stats/lombscargle.html"
   ]
  },
  {
   "cell_type": "code",
   "execution_count": null,
   "metadata": {
    "collapsed": true
   },
   "outputs": [],
   "source": [
    "# Do Lomb-Scargle!\n",
    "\n",
    "f, p = LombScargle(t, y, dy).autopower()"
   ]
  },
  {
   "cell_type": "markdown",
   "metadata": {},
   "source": [
    "### What do _f_ and _p_ correspond to? (check the documentation for more info)\n",
    "### Answer:\n",
    "(your answer here)"
   ]
  },
  {
   "cell_type": "markdown",
   "metadata": {},
   "source": [
    "## In the cell below, plot the periodogram:"
   ]
  },
  {
   "cell_type": "code",
   "execution_count": null,
   "metadata": {
    "collapsed": false
   },
   "outputs": [],
   "source": [
    "# Your code here:\n",
    "\n"
   ]
  },
  {
   "cell_type": "markdown",
   "metadata": {},
   "source": [
    "### Q: What is the dominant frequency of periodicity within this dataset? How does it compare with how we created this synethetic dataset at the beginning?\n",
    "\n",
    "### Answer:\n",
    "\n",
    "(your answer here)"
   ]
  },
  {
   "cell_type": "markdown",
   "metadata": {},
   "source": [
    "### We can now determine the frequency by determining the largest value of the power:"
   ]
  },
  {
   "cell_type": "code",
   "execution_count": null,
   "metadata": {
    "collapsed": false
   },
   "outputs": [],
   "source": [
    "best_frequency = f[np.argmax(p)]\n",
    "best_frequency"
   ]
  },
  {
   "cell_type": "markdown",
   "metadata": {},
   "source": [
    "### Following the approach from our phase-folding worksheet a few weeks ago, calculate the phase and the standard phase below:\n",
    "\n",
    "(Hint: What is the best period corresponding to our frequency estimate from LS?)"
   ]
  },
  {
   "cell_type": "code",
   "execution_count": null,
   "metadata": {
    "collapsed": true
   },
   "outputs": [],
   "source": [
    "# Your code here:\n",
    "\n",
    "best_period = \n",
    "phase = "
   ]
  },
  {
   "cell_type": "code",
   "execution_count": null,
   "metadata": {
    "collapsed": true
   },
   "outputs": [],
   "source": [
    "# Your code here:\n",
    "\n",
    "stnd_phase = "
   ]
  },
  {
   "cell_type": "markdown",
   "metadata": {},
   "source": [
    "## Plot the corresponding standard phase diagram below:"
   ]
  },
  {
   "cell_type": "code",
   "execution_count": null,
   "metadata": {
    "collapsed": false
   },
   "outputs": [],
   "source": [
    "# Your code here:\n",
    "\n"
   ]
  },
  {
   "cell_type": "markdown",
   "metadata": {},
   "source": [
    "### Now we can see how our Lomb-Scargle model fits the data.\n",
    "\n",
    "### First we have to calculate the model, evaluated at the original time sampling of the data:"
   ]
  },
  {
   "cell_type": "code",
   "execution_count": null,
   "metadata": {
    "collapsed": false
   },
   "outputs": [],
   "source": [
    "t_fit = np.linspace(t.min(),t.max(),100)"
   ]
  },
  {
   "cell_type": "code",
   "execution_count": null,
   "metadata": {
    "collapsed": false
   },
   "outputs": [],
   "source": [
    "y_fit = LombScargle(t, y, dy).model(t_fit, best_frequency)"
   ]
  },
  {
   "cell_type": "markdown",
   "metadata": {},
   "source": [
    "## Now phase-fold the fit results for the Lomb-Scargle model, based on the best period:"
   ]
  },
  {
   "cell_type": "code",
   "execution_count": null,
   "metadata": {
    "collapsed": false
   },
   "outputs": [],
   "source": [
    "# Your code here:\n",
    "# Hint: the \"reference time\" in this case should be t[0]; otherwise the phase will be incorrect.\n",
    "\n",
    "phase_LS = \n",
    "stnd_phase_LS = "
   ]
  },
  {
   "cell_type": "markdown",
   "metadata": {},
   "source": [
    "## Finally, plot the phased data and the models below. \n",
    "\n",
    "### For readability, make the model a black line, and the synethetic dataset point symbols: ```fmt=\".\"``` Be sure to add labels to the datasets and a legend."
   ]
  },
  {
   "cell_type": "code",
   "execution_count": null,
   "metadata": {
    "collapsed": false
   },
   "outputs": [],
   "source": [
    "fig, ax = plt.subplots(figsize=(12,6))\n",
    "\n",
    "# Your code here: \n",
    "\n"
   ]
  },
  {
   "cell_type": "markdown",
   "metadata": {},
   "source": [
    "***\n",
    "\n",
    "## Now that we've seen how the approach can be used on (simple!) synthetic data, let's work with some real data, from the LINEAR survey. \n",
    "\n",
    "\n",
    "\n",
    "The <a href=\"https://en.wikipedia.org/wiki/Lincoln_Near-Earth_Asteroid_Research\">LINEAR Survey</a> is actually a program designed to find/track potentially-hazardous asteroids. \n",
    "\n",
    "However, they also get some great stellar variability data along the way! In fact, they've <a href=\"https://arxiv.org/abs/1505.02082\">cataloged >7200 variable stars</a>.\n",
    "\n",
    "## We'll start by reading in data and examining it:\n",
    "\n",
    "We're using the pandas software library in python to read in this data table. The variable \"data\" now corresponds to a full data table, known as a \"dataframe\":\n"
   ]
  },
  {
   "cell_type": "code",
   "execution_count": null,
   "metadata": {
    "collapsed": false
   },
   "outputs": [],
   "source": [
    "data = pd.read_csv('LINEAR_11375941.csv')"
   ]
  },
  {
   "cell_type": "markdown",
   "metadata": {},
   "source": [
    "In the cells below, use data.head() and data.tail() to examine parts of the table/dataframe:"
   ]
  },
  {
   "cell_type": "code",
   "execution_count": null,
   "metadata": {
    "collapsed": false
   },
   "outputs": [],
   "source": [
    "# Your code here:\n"
   ]
  },
  {
   "cell_type": "code",
   "execution_count": null,
   "metadata": {
    "collapsed": false,
    "scrolled": true
   },
   "outputs": [],
   "source": [
    "# Your code here:\n"
   ]
  },
  {
   "cell_type": "markdown",
   "metadata": {},
   "source": [
    "**Reminder:**   \n",
    "Like normal arrays in numpy, you can select and work with a single column from a pandas dataframe by using the variable name and the column label, e.g.,\n",
    "\n",
    "```data.magerr```\n",
    "\n",
    "Try it out below..."
   ]
  },
  {
   "cell_type": "code",
   "execution_count": null,
   "metadata": {
    "collapsed": false
   },
   "outputs": [],
   "source": [
    "# Your code here:\n"
   ]
  },
  {
   "cell_type": "markdown",
   "metadata": {},
   "source": [
    "### What is the total timespan of the observations, in years?"
   ]
  },
  {
   "cell_type": "code",
   "execution_count": null,
   "metadata": {
    "collapsed": false
   },
   "outputs": [],
   "source": [
    "# Your code here - make sure to check that your answer is reasonable!\n",
    "\n",
    "# Hint: note that you can use data.t.min() to get the minimum value of a pandas data column, \"t\"\n",
    "\n"
   ]
  },
  {
   "cell_type": "markdown",
   "metadata": {},
   "source": [
    "### In the cell below, plot the raw data. Recall that the Y-axis is in magnitudes (which direction should it go?)"
   ]
  },
  {
   "cell_type": "code",
   "execution_count": null,
   "metadata": {
    "collapsed": false
   },
   "outputs": [],
   "source": [
    "# Your code here:\n",
    "\n"
   ]
  },
  {
   "cell_type": "markdown",
   "metadata": {},
   "source": [
    "## Set up the Lomb-Scargle periodogram"
   ]
  },
  {
   "cell_type": "code",
   "execution_count": null,
   "metadata": {
    "collapsed": true
   },
   "outputs": [],
   "source": [
    "# This is similar to the step performed with our synethetic data, but creates a new variable \n",
    "# corresponding to the Lomb-Scargle analysis that we can use.\n",
    "\n",
    "lmscgl = LombScargle(data.t, data.mag, data.magerr)"
   ]
  },
  {
   "cell_type": "code",
   "execution_count": null,
   "metadata": {
    "collapsed": false
   },
   "outputs": [],
   "source": [
    "frequency, power = lmscgl.autopower(nyquist_factor=500, minimum_frequency = 0.2)"
   ]
  },
  {
   "cell_type": "markdown",
   "metadata": {},
   "source": [
    "## Q: In the cell above, what do the Nyquist factor and minimum frequency correspond to, and why are they important?\n",
    "(hint: see the documentation again http://docs.astropy.org/en/stable/stats/lombscargle.html)\n",
    "\n",
    "### Answer:\n",
    "\n",
    "(your answer here)"
   ]
  },
  {
   "cell_type": "markdown",
   "metadata": {},
   "source": [
    "## Calculate the best estimate of period from LS, and phase the data accordingly:"
   ]
  },
  {
   "cell_type": "code",
   "execution_count": null,
   "metadata": {
    "collapsed": false
   },
   "outputs": [],
   "source": [
    "period_days = 1./frequency\n",
    "best_frequency = frequency[np.argmax(power)]\n",
    "best_period = period_days[np.argmax(power)] # units are still in days...\n",
    "print('Best period: ', best_period*24, ' hours')"
   ]
  },
  {
   "cell_type": "code",
   "execution_count": null,
   "metadata": {
    "collapsed": true
   },
   "outputs": [],
   "source": [
    "# Calculate the standard phase of this dataset.\n",
    "\n",
    "# Your code here:\n",
    "\n"
   ]
  },
  {
   "cell_type": "markdown",
   "metadata": {},
   "source": [
    "## Plot the periodogram of Lomb-Scargle power as a function of the period in days. \n",
    "\n",
    "### Note: This can be somewhat intensive to plot, so add ```rasterized='true'``` to your plot command so it loads more quickly."
   ]
  },
  {
   "cell_type": "code",
   "execution_count": null,
   "metadata": {
    "collapsed": false
   },
   "outputs": [],
   "source": [
    "# Your code here:\n",
    "\n"
   ]
  },
  {
   "cell_type": "markdown",
   "metadata": {},
   "source": [
    "### Does the dominant period in the plotted periodogram agree with the peak estimate? Note that it's difficult to discern the period in days. Maybe a change of units will help. \n",
    "\n",
    "## Below, replot the periodogram, but this time in units of _hours_."
   ]
  },
  {
   "cell_type": "code",
   "execution_count": null,
   "metadata": {
    "collapsed": false
   },
   "outputs": [],
   "source": [
    "# Zoom in and change the units!\n",
    "\n",
    "# Your code here:\n"
   ]
  },
  {
   "cell_type": "markdown",
   "metadata": {},
   "source": [
    "## We can now plot the phase-folded data, based upon the best period found from the periodogram analysis. "
   ]
  },
  {
   "cell_type": "code",
   "execution_count": null,
   "metadata": {
    "collapsed": false
   },
   "outputs": [],
   "source": [
    "# Your code here:\n",
    "\n"
   ]
  },
  {
   "cell_type": "markdown",
   "metadata": {},
   "source": [
    "## And finally, we can plot the data and the model of variation from the LS best-frequency estimate. Describe below what is defined/happening in the following cell below. What is the L-S method calculating, and how?\n",
    "\n",
    "\n",
    "## Answer:\n",
    "(Your answer here)"
   ]
  },
  {
   "cell_type": "code",
   "execution_count": null,
   "metadata": {
    "collapsed": true
   },
   "outputs": [],
   "source": [
    "# Generate the corresponding model from the LS results:\n",
    "phase_model = np.linspace(-0.5, 1.5, 100)\n",
    "mag_model = lmscgl.model(phase_model / best_frequency, best_frequency)"
   ]
  },
  {
   "cell_type": "code",
   "execution_count": null,
   "metadata": {
    "collapsed": false
   },
   "outputs": [],
   "source": [
    "fig, ax = plt.subplots(figsize=(10,3))\n",
    "\n",
    "plt.plot(phase_model, mag_model, 'k-')\n",
    "\n",
    "# Remember that the 0-to-1 standard phase is just a snapshot of the full variation. \n",
    "# Therefore, we can extend the plots in phase a bit in either direction, to show the overlap:\n",
    "\n",
    "plt.errorbar(phase + -1.0, data.mag, data.magerr, fmt='.', color='gray', ecolor='0.5')\n",
    "plt.errorbar(phase + 0, data.mag, data.magerr, fmt='.', color='gray', ecolor='0.5')\n",
    "plt.errorbar(phase + 1.0, data.mag, data.magerr, fmt='.', color='gray', ecolor='0.5')\n",
    "\n",
    "plt.xlim(-0.5, 1.5)\n",
    "plt.xlabel('Phase')\n",
    "plt.ylabel('Magnitude')\n",
    "plt.gca().invert_yaxis()"
   ]
  }
 ],
 "metadata": {
  "kernelspec": {
   "display_name": "Python 2",
   "language": "python",
   "name": "python2"
  },
  "language_info": {
   "codemirror_mode": {
    "name": "ipython",
    "version": 2
   },
   "file_extension": ".py",
   "mimetype": "text/x-python",
   "name": "python",
   "nbconvert_exporter": "python",
   "pygments_lexer": "ipython2",
   "version": "2.7.12"
  }
 },
 "nbformat": 4,
 "nbformat_minor": 2
}
