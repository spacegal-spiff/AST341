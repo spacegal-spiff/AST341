{
 "cells": [
  {
   "cell_type": "code",
   "execution_count": null,
   "metadata": {},
   "outputs": [],
   "source": [
    "# python 2/3 compatibility\n",
    "from __future__ import print_function\n",
    "# numerical python\n",
    "import numpy as np\n",
    "# file management tools\n",
    "import glob\n",
    "import os\n",
    "# good module for timing tests\n",
    "import time\n",
    "# plotting stuff\n",
    "import matplotlib.pyplot as plt\n",
    "import matplotlib.cm as cm\n",
    "# ability to read/write fits files\n",
    "from astropy.io import fits\n",
    "# fancy image combination technique\n",
    "from astropy.stats import sigma_clip\n",
    "# median absolute deviation: for photometry\n",
    "from astropy.stats import mad_std\n",
    "# photometric utilities\n",
    "from photutils import DAOStarFinder,aperture_photometry, CircularAperture, CircularAnnulus, Background2D, MedianBackground\n",
    "# periodograms\n",
    "from astropy.stats import LombScargle\n",
    "from regions import read_ds9, write_ds9\n",
    "from astropy.wcs import WCS\n",
    "\n",
    "import numpy.ma as ma\n",
    "import warnings\n",
    "import pandas as pd\n",
    "\n",
    "warnings.filterwarnings(\"ignore\")\n",
    "\n",
    "np.set_printoptions(suppress=True)"
   ]
  },
  {
   "cell_type": "code",
   "execution_count": null,
   "metadata": {},
   "outputs": [],
   "source": [
    "from DifferentialPhotometry_functions import *"
   ]
  },
  {
   "cell_type": "markdown",
   "metadata": {},
   "source": [
    "## Initial setup: \n",
    "\n",
    "You will need to define the data directory where your images exist, a region file that you have created for the target members in your field, and a fits image with WCS information. \n",
    "\n",
    "Also, define a signal to noise threshold for detrending the photometry.  If detrending fails, lower the threshold. "
   ]
  },
  {
   "cell_type": "code",
   "execution_count": null,
   "metadata": {},
   "outputs": [],
   "source": [
    "# name of field\n",
    "target = \"praesepe\"\n",
    "filt = 'V' \n",
    "\n",
    "#location of data\n",
    "datadir = '/Volumes/ARCTURUS/WIYN09/SmallStack_' + target + '/' + filt + '/'\n",
    "\n",
    "#grab data\n",
    "im = glob.glob(datadir + '*N*.fits')\n",
    "\n",
    "#S/N threshold\n",
    "sn_thresh=3\n",
    "\n",
    "# For your own data, modify as needed\n",
    "wcs_image = '/Volumes/ARCTURUS/WIYN09/RegionFiles/' + target+ '/' + target + '_WCS.fits'\n",
    "\n",
    "#optional region file \n",
    "wcs_region = '/Volumes/ARCTURUS/WIYN09/RegionFiles/' + target + '/' + target + '_VZ_sm.reg'"
   ]
  },
  {
   "cell_type": "code",
   "execution_count": null,
   "metadata": {},
   "outputs": [],
   "source": [
    "print(f\"Number of images found: {len(im)}\")\n",
    "print(np.array(im))"
   ]
  },
  {
   "cell_type": "code",
   "execution_count": null,
   "metadata": {},
   "outputs": [],
   "source": [
    "aprad=20.  # aperture radius for HDI\n",
    "skybuff=14.  # sky annulus inner radius\n",
    "skywidth=18.  # sky annulus outer radius"
   ]
  },
  {
   "cell_type": "code",
   "execution_count": null,
   "metadata": {},
   "outputs": [],
   "source": [
    "# sensitivities for star finding\n",
    "nsigma=4.5 # detection threshold in sigma \n",
    "FWHM=5. # pixels "
   ]
  },
  {
   "cell_type": "code",
   "execution_count": null,
   "metadata": {},
   "outputs": [],
   "source": [
    "## do starfind on one of the images.\n",
    "xpos, ypos, nstars = StarFind(im[2], FWHM, nsigma)"
   ]
  },
  {
   "cell_type": "code",
   "execution_count": null,
   "metadata": {},
   "outputs": [],
   "source": [
    "#find ra, dec coordinates of stars\n",
    "hdr_wcs = fits.getheader(wcs_image)\n",
    "w = construct_astrometry(hdr_wcs)\n",
    "ra, dec = w.wcs_pix2world(xpos, ypos,1)"
   ]
  },
  {
   "cell_type": "code",
   "execution_count": null,
   "metadata": {},
   "outputs": [],
   "source": [
    "# Note that you will need to update the \"timekey\" keyword to pick the right header keyword from AIJ! \n",
    "\n",
    "times, Photometry_initial = doPhotometry(im, xpos, ypos,aprad, skybuff, skywidth)"
   ]
  },
  {
   "cell_type": "code",
   "execution_count": null,
   "metadata": {},
   "outputs": [],
   "source": [
    "ePhotometry = doPhotometryError(im,xpos, ypos, aprad, skybuff, skywidth, Photometry_initial, manual=True, xboxcorner=2000, yboxcorner=2000, boxsize=200)"
   ]
  },
  {
   "cell_type": "code",
   "execution_count": null,
   "metadata": {},
   "outputs": [],
   "source": [
    "#find ra, dec coordinates of stars\n",
    "\n",
    "#using region file\n",
    "memberlist = wcs_region\n",
    "\n",
    "#manual inputting 1 star\n",
    "# ra_in, dec_in = w.wcs_pix2world([2402],[2076],1)\n",
    "# memberlist = (ra_in, dec_in)\n",
    "\n",
    "#determine index, ra, dec of target stars from the DAOstarfinder catalogue.\n",
    "idx, RA, DEC = target_list(memberlist, ra, dec)"
   ]
  },
  {
   "cell_type": "code",
   "execution_count": null,
   "metadata": {},
   "outputs": [],
   "source": [
    "print('indices of targets in starfinder catalogue: {}'.format(idx) )\n",
    "print('number of target stars found: {}'.format(len(idx)))"
   ]
  },
  {
   "cell_type": "code",
   "execution_count": null,
   "metadata": {},
   "outputs": [],
   "source": [
    "#detrend photometry and plot \n",
    "Photometry, cPhotometry = detrend(idx, Photometry_initial, ePhotometry, nstars, sn_thresh)\n",
    "plotPhotometry(times,cPhotometry)"
   ]
  },
  {
   "cell_type": "code",
   "execution_count": null,
   "metadata": {},
   "outputs": [],
   "source": [
    "# determine most accurate comparison stars \n",
    "most_accurate = findComparisonStars(Photometry, cPhotometry) # comp_num= (can set this)"
   ]
  },
  {
   "cell_type": "code",
   "execution_count": null,
   "metadata": {},
   "outputs": [],
   "source": [
    "#run differential photometry on all stars\n",
    "dPhotometry, edPhotometry, tePhotometry  = runDifferentialPhotometry(Photometry_initial, ePhotometry, nstars, most_accurate, sn_thresh=2)"
   ]
  },
  {
   "cell_type": "code",
   "execution_count": null,
   "metadata": {},
   "outputs": [],
   "source": [
    "#pull out differential photometry for target stars and save to .npz file\n",
    "tar_ra, tar_dec, tar_xpos, tar_ypos, time, flux, fluxerr, foldedphase, totperiod, totpower  = diffPhot_IndividualStars(datadir, idx, ra, dec, xpos, ypos, dPhotometry, edPhotometry, tePhotometry,times, target, filt, wcs_image, most_accurate)\n",
    "#\n"
   ]
  },
  {
   "cell_type": "code",
   "execution_count": null,
   "metadata": {},
   "outputs": [],
   "source": [
    "#open data\n",
    "data = np.load(datadir + 'differentialPhot_field' + target + filt + '.npz')\n",
    "\n",
    "#read column headers\n",
    "data.files\n",
    "\n",
    "print(len(data['ra']))\n",
    "#access data with data['flux']"
   ]
  },
  {
   "cell_type": "markdown",
   "metadata": {},
   "source": [
    "# Plot the lightcurve here!\n"
   ]
  },
  {
   "cell_type": "code",
   "execution_count": null,
   "metadata": {},
   "outputs": [],
   "source": [
    "for star in np.arange(len(data['flux'])):\n",
    "\n",
    "    fig, (ax0, ax1, ax2) = plt.subplots(figsize=(15,4), nrows=1, ncols=3)\n",
    "    time = data['time']\n",
    "    ax0.errorbar(data['time'], data['flux'][star], yerr=data['fluxerr'][star], fmt='ko')\n",
    "\n",
    "    ax1.plot(data['period'][star], data['power'][star], 'k')\n",
    "\n",
    "    ax2.plot(data['foldedphase'][star]-1., data['flux'][star], 'o', color='gray')\n",
    "    ax2.plot(data['foldedphase'][star], data['flux'][star], 'ko')\n",
    "    ax2.plot(data['foldedphase'][star]+1., data['flux'][star], 'o', color='gray')\n",
    "    \n",
    "    ax0.set_xlabel('time [day]')\n",
    "    ax0.set_ylabel('relative flux')\n",
    "    ax1.set_xlabel('period [days]')\n",
    "    ax1.set_ylabel('power')\n",
    "    ax2.set_xlabel('phase')\n",
    "    ax2.set_ylabel('relative flux')\n",
    "    \n",
    "#     ax0.set_ylim(0.5, 1.5)\n",
    "\n",
    "#     print('flux:', data2['flux'][star])\n",
    "#     print('phase:',data2['foldedphase'][star])\n",
    "#     print('fluxerr:',data2['fluxerr'][star])\n",
    "#     print('-------------')\n",
    "    plt.suptitle('star at: (x, y) = (' + str(data['xpos'][star]) + ', ' + str(data['ypos'][star]) + ')' )\n",
    "       \n",
    "plt.show()"
   ]
  },
  {
   "cell_type": "code",
   "execution_count": null,
   "metadata": {},
   "outputs": [],
   "source": []
  }
 ],
 "metadata": {
  "kernelspec": {
   "display_name": "Python 3",
   "language": "python",
   "name": "python3"
  },
  "language_info": {
   "codemirror_mode": {
    "name": "ipython",
    "version": 3
   },
   "file_extension": ".py",
   "mimetype": "text/x-python",
   "name": "python",
   "nbconvert_exporter": "python",
   "pygments_lexer": "ipython3",
   "version": "3.7.1"
  }
 },
 "nbformat": 4,
 "nbformat_minor": 2
}
