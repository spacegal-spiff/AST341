{
 "cells": [
  {
   "cell_type": "code",
   "execution_count": 4,
   "metadata": {
    "collapsed": false
   },
   "outputs": [
    {
     "name": "stderr",
     "output_type": "stream",
     "text": [
      "/Users/Kim/Software/anaconda/lib/python2.7/site-packages/matplotlib/font_manager.py:273: UserWarning: Matplotlib is building the font cache using fc-list. This may take a moment.\n",
      "  warnings.warn('Matplotlib is building the font cache using fc-list. This may take a moment.')\n"
     ]
    }
   ],
   "source": [
    "import numpy as np\n",
    "import matplotlib.pyplot as plt\n",
    "import astropy.io.fits as fits\n",
    "import pylab\n",
    "import glob\n",
    "import time\n",
    "%matplotlib inline"
   ]
  },
  {
   "cell_type": "markdown",
   "metadata": {
    "collapsed": false
   },
   "source": [
    "## HDI Mosaic and Bias-Correction Procedure\n",
    "\n",
    "### The following *incomplete* code is written as a starting point to demonstrate two goals: \n",
    "\n",
    "1) convert a multi-extension (4 amplifier) HDI image into a regular, single extension FITS image,  \n",
    "and  \n",
    "2) correct for the bias drift and subtract the bias signal from HDI images.\n",
    "\n",
    "**Your tasks tonight:**  \n",
    "(1) Comment the code below so it makes sense to you  \n",
    "(2) Finish the code so it runs successfully on a test image (re-create what we saw in class!)  \n",
    "(3) Go to the benchmarking notebook and match your pseudocode to the functions within (and test your computer/SD card!)  \n",
    "\n",
    "**Your tasks this week:**  \n",
    "(1) Create your own new bias-correction notebook, using the functions from the benchmarking notebook and writing   \n",
    "(2) Apply your bias correction to Night 4 of data (both calibration frames and science frames) for your project  \n",
    "(3) Save the newly-made mosaiced, bias-corrected images  \n",
    "(4) Describe the how, what, and why of these reduction steps in your weekly research blog (due **5 pm Weds. 2/7**).\n",
    "\n",
    "**What you will need for this notebook:**\n",
    "* A single science image to test the mosaic part of the code (read_raw_fits) and the bias-correction (overscan_only_bias_correction)\n",
    "\n",
    "**What you will need for the benchmarking notebook:**\n",
    "* A stack of files (e.g., biases) to median combine.\n",
    "\n"
   ]
  },
  {
   "cell_type": "code",
   "execution_count": 1,
   "metadata": {
    "collapsed": true
   },
   "outputs": [],
   "source": [
    "# How big should our mosaic image (all four quadrants in one image) be? This will *include* the overscan regions.\n",
    "\n",
    "# Initialize parameters for the final image size, below:\n",
    "\n",
    "final_imx = 2056*2\n",
    "final_imy = 2156*2"
   ]
  },
  {
   "cell_type": "code",
   "execution_count": 2,
   "metadata": {
    "collapsed": true
   },
   "outputs": [],
   "source": [
    "def read_raw_fits(im, newimx, newimy):\n",
    "    \"\"\"\n",
    "    [add your own docstring and add comments to describe the purpose of this function, filling out templates below]\n",
    "\n",
    "    Purpose: \n",
    "    \n",
    "    \n",
    "    \n",
    "    Input:\n",
    "    \n",
    "    \n",
    "    \n",
    "    Returns:\n",
    "    \n",
    "    \n",
    "    \n",
    "    Example Usage:\n",
    "    \n",
    "    \n",
    "    \n",
    "    \"\"\"\n",
    "    \n",
    "    # What is taking place in the following steps?\n",
    "    # Answer:\n",
    "    \n",
    "    im_padded = np.zeros([newimx, newimy])\n",
    "    im_all = fits.open(im)\n",
    "    im_header = im_all[0].header\n",
    "    \n",
    "    \n",
    "    \n",
    "    # Some useful info:\n",
    "    \n",
    "    # im_padded[newimx/2:newimx, 0:newimy/2] places data in the upper left quadrant\n",
    "    # im_all[4].data corresponds to the northeast quadrant of the image; needs to be inverted in Y\n",
    "    \n",
    "    # [(newimx/2):(newimx), newimy/2:(newimy)] places data in the upper right quadrant\n",
    "    # im_all[3].data corresponds to the northwest quadrant of the image; needs to be inverted in X and Y\n",
    "    \n",
    "    # [0:newimx/2, 0:newimy/2] places data in lower left quadrant\n",
    "    # im_all[2].data corresponds to the southeast quadrant of the image; needs no inversion\n",
    "    \n",
    "    # [0:newimx/2, newimy/2:newimy] places data in the lower right quadrant\n",
    "    # im_all[1].data corresponds to the southwest quadrant of the image; needs to be inverted in X\n",
    "    \n",
    "    \n",
    "    \n",
    "    \n",
    "    # What is taking place in the following four commands?\n",
    "    # Answer:\n",
    "\n",
    "    # northeast\n",
    "    im_padded[newimx/2:newimx, 0:newimy/2] = np.flipud(im_all[4].data) # can also write im_all[4].data[::-1]\n",
    "    \n",
    "    # northwest\n",
    "    im_padded[(newimx/2):(newimx), newimy/2:(newimy)] = np.fliplr(np.flipud(im_all[3].data)) # can also write im_all[3].data[::-1,::-1]\n",
    "    \n",
    "    # southeast\n",
    "    im_padded[0:newimx/2, 0:newimy/2] = im_all[2].data\n",
    "    \n",
    "    # southwest\n",
    "    im_padded[0:newimx/2, newimy/2:newimy] = np.fliplr(im_all[1].data)\n",
    "\n",
    "    return im_padded, im_header\n",
    "        "
   ]
  },
  {
   "cell_type": "markdown",
   "metadata": {},
   "source": [
    "### In the cell below, try out the read_raw_fits function on a single test science image."
   ]
  },
  {
   "cell_type": "code",
   "execution_count": 5,
   "metadata": {
    "collapsed": false
   },
   "outputs": [],
   "source": [
    "# complete this cell:\n",
    "\n",
    "test_mosaic_im, test_mosaic_header = read_raw_fits("
   ]
  },
  {
   "cell_type": "markdown",
   "metadata": {},
   "source": [
    "### Now save the file you've just read as a new FITS file. Call it *test_mosaic.fits*:"
   ]
  },
  {
   "cell_type": "code",
   "execution_count": 6,
   "metadata": {
    "collapsed": false
   },
   "outputs": [],
   "source": [
    "# complete this: write your own code to save a new FITS file here\n",
    "\n"
   ]
  },
  {
   "cell_type": "markdown",
   "metadata": {},
   "source": [
    "### Test the before/after FITS files by opening them in ds9. How did it work?\n",
    "\n",
    "(Open the old one with File -> Open As -> Mosaic IRAF; the new one should open like a regular FITS file.)\n",
    "\n",
    "### Answer:"
   ]
  },
  {
   "cell_type": "markdown",
   "metadata": {},
   "source": [
    "## The bias-correction function"
   ]
  },
  {
   "cell_type": "code",
   "execution_count": 1,
   "metadata": {
    "collapsed": true
   },
   "outputs": [],
   "source": [
    "def overscan_only_bias_correct(fits_im, newimx, newimy):\n",
    "    \"\"\"\n",
    "    Purpose: \n",
    "    For a given FITS image (fits_im), read in imframe and measure the mean overscan values for each of its quadrants.\n",
    "    Then, apply the offsets to each quadrant: subtract the appropriate bias level from each quadrant in the FITS \n",
    "    image of interest.\n",
    "        \n",
    "    Input: \n",
    "    fits_im - raw science (or flat) frame to be corrected\n",
    "    newimx - dimensions in x-axis \n",
    "    newimy - dimensions in y-axis \n",
    "    \n",
    "    Returns: \n",
    "    corr_image - a bias-corrected version of the input science (or flat) image\n",
    "    im_hdr - header of the input science (or flat) image\n",
    "                \n",
    "    Example Usage: \n",
    "    new_corrected_im, corrected_im_header = overscan_only_bias_correct('image.fits', x_image_size, y_image_size)\n",
    "    \"\"\"\n",
    "    \n",
    "    # First, make your input science (or flat) image into a four-quadrant mosaic. \n",
    "    # Finish the following line of code:\n",
    "    imframe, imframe_hdr = read_raw_fits(\n",
    "\n",
    "        \n",
    "        \n",
    "    \n",
    "    # Measure the overscan levels for each quadrant: \n",
    "    \n",
    "    # Reminder: [newimx/2:newimx, 0:newimy/2] => upper left quadrant\n",
    "    overscan_ul = np.median(imframe[newimx/2:newimx, (newimy/2 - 108):newimy/2]) \n",
    "    \n",
    "    # Reminder: [(newimx/2):(newimx), newimy/2:(newimy)] => upper right quadrant\n",
    "    overscan_ur = np.median(imframe[(newimx/2):(newimx), newimy/2:(newimy/2 + 108)])\n",
    "    \n",
    "    # Reminder: [0:newimx/2, 0:newimy/2] => lower left quadrant\n",
    "    overscan_ll = np.median(imframe[0:newimx/2, (newimy/2-108):newimy/2])\n",
    "\n",
    "    # Reminder: [0:newimx/2, newimy/2:newimy] => lower right quadrant\n",
    "    overscan_lr = np.median(imframe[0:newimx/2, (newimy/2):(newimy/2)+108])\n",
    "\n",
    "\n",
    "        \n",
    "\n",
    "    # Now make a new empty image to place each subtracted quadrant\n",
    "    corr_im = np.zeros([newimx, newimy])\n",
    "\n",
    "    # ul\n",
    "    corr_im[newimx/2:newimx, 0:newimy/2] = imframe[newimx/2:newimx, 0:newimy/2]- overscan_ul\n",
    "\n",
    "    # ur\n",
    "    corr_im[(newimx/2):(newimx), newimy/2:(newimy)] = imframe[(newimx/2):(newimx), newimy/2:(newimy)] - overscan_ur\n",
    "\n",
    "    # ll\n",
    "    corr_im[0:newimx/2, 0:newimy/2] = imframe[0:newimx/2, 0:newimy/2] - overscan_ll\n",
    "\n",
    "    # lr\n",
    "    corr_im[0:newimx/2, newimy/2:newimy] = imframe[0:newimx/2, newimy/2:newimy] - overscan_lr\n",
    "    \n",
    "    return corr_im, imframe_hdr\n"
   ]
  },
  {
   "cell_type": "markdown",
   "metadata": {},
   "source": [
    "## Run the bias-correction function on your test science image:"
   ]
  },
  {
   "cell_type": "code",
   "execution_count": 18,
   "metadata": {
    "collapsed": false
   },
   "outputs": [],
   "source": [
    "# Complete the following cell:\n",
    "\n",
    "bias_corr_image_overscan, header = overscan_only_bias_correct("
   ]
  },
  {
   "cell_type": "code",
   "execution_count": 19,
   "metadata": {
    "collapsed": true
   },
   "outputs": [],
   "source": [
    "# Write the bias-corrected file:\n",
    "\n",
    "fits.writeto("
   ]
  },
  {
   "cell_type": "markdown",
   "metadata": {
    "collapsed": true
   },
   "source": [
    "### Finally, open the original file (ds9 -> open as -> mosaic IRAF) and the new one. How do they compare? Was the bias level removed?"
   ]
  },
  {
   "cell_type": "markdown",
   "metadata": {
    "collapsed": true
   },
   "source": [
    "**Answer:**"
   ]
  }
 ],
 "metadata": {
  "kernelspec": {
   "display_name": "Python 2",
   "language": "python",
   "name": "python2"
  },
  "language_info": {
   "codemirror_mode": {
    "name": "ipython",
    "version": 2
   },
   "file_extension": ".py",
   "mimetype": "text/x-python",
   "name": "python",
   "nbconvert_exporter": "python",
   "pygments_lexer": "ipython2",
   "version": "2.7.12"
  }
 },
 "nbformat": 4,
 "nbformat_minor": 0
}
