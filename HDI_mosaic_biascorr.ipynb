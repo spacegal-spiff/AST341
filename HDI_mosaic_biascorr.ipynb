{
 "cells": [
  {
   "cell_type": "code",
   "execution_count": 4,
   "metadata": {
    "collapsed": false
   },
   "outputs": [
    {
     "name": "stderr",
     "output_type": "stream",
     "text": [
      "/Users/Kim/Software/anaconda/lib/python2.7/site-packages/matplotlib/font_manager.py:273: UserWarning: Matplotlib is building the font cache using fc-list. This may take a moment.\n",
      "  warnings.warn('Matplotlib is building the font cache using fc-list. This may take a moment.')\n"
     ]
    }
   ],
   "source": [
    "import numpy as np\n",
    "import matplotlib.pyplot as plt\n",
    "import astropy.io.fits as fits\n",
    "import pylab\n",
    "import glob\n",
    "import time\n",
    "%matplotlib inline"
   ]
  },
  {
   "cell_type": "markdown",
   "metadata": {
    "collapsed": false
   },
   "source": [
    "## HDI Mosaic and Bias-Correction Procedure\n",
    "\n",
    "### The following *incomplete* code is written as a starting point to achieve two goals: \n",
    "\n",
    "1) convert a multi-extension (4 amplifier) HDI image into a regular, single extension FITS image,  \n",
    "and  \n",
    "2) correct for the bias drift and subtract the bias signal from HDI images.\n",
    "\n",
    "**Your tasks:**  \n",
    "(1) Comment the code so it makes sense to you  \n",
    "(2) Finish the code so it runs successfully on a test image  \n",
    "(3) Apply the bias correction to a single night of data (both calibration frames and science frames) for your project  \n",
    "(4) Save the newly-made mosaiced, bias-corrected images  \n",
    "(5) Describe the how, what, and why of these reduction steps in your weekly research blog.\n",
    "\n",
    "**What you will need:**\n",
    "* A flatfield frame to test the mosaic part of the code (read_raw_fits)\n",
    "* A set of flatfield frames to bias-correct\n",
    "\n"
   ]
  },
  {
   "cell_type": "code",
   "execution_count": 1,
   "metadata": {
    "collapsed": true
   },
   "outputs": [],
   "source": [
    "# How big should our mosaic image (all four quadrants in one image) be? \n",
    "\n",
    "# Initialize parameters for the final image size, below:\n",
    "\n",
    "final_imx = 2056*2\n",
    "final_imy = 2156*2"
   ]
  },
  {
   "cell_type": "code",
   "execution_count": 2,
   "metadata": {
    "collapsed": true
   },
   "outputs": [],
   "source": [
    "def read_raw_fits(im, newimx, newimy):\n",
    "    \"\"\"\n",
    "    [add your own docstring here to describe the purpose of this function, filling out template below]\n",
    "\n",
    "    Purpose: \n",
    "    \n",
    "    Input:\n",
    "    \n",
    "    Returns:\n",
    "    \n",
    "    Example Usage:\n",
    "    \n",
    "    \"\"\"\n",
    "    im_padded = np.zeros([newimx, newimy])\n",
    "    im_all = fits.open(im)\n",
    "    im_header = im_all[0].header\n",
    "    \n",
    "    # im_padded[newimx/2:newimx, 0:newimy/2] places data in the upper left quadrant\n",
    "    # im_all[4].data corresponds to the northeast quadrant of the image; needs to be inverted in Y\n",
    "    \n",
    "    # [(newimx/2):(newimx), newimy/2:(newimy)] places data in the upper right quadrant\n",
    "    # im_all[3].data corresponds to the northwest quadrant of the image; needs to be inverted in X and Y\n",
    "    \n",
    "    # [0:newimx/2, 0:newimy/2] places data in lower left quadrant\n",
    "    # im_all[2].data corresponds to the southeast quadrant of the image; needs no inversion\n",
    "    \n",
    "    # [0:newimx/2, newimy/2:newimy] places data in the lower right quadrant\n",
    "    # im_all[1].data corresponds to the southwest quadrant of the image; needs to be inverted in X\n",
    "    \n",
    "\n",
    "    # northeast\n",
    "    im_padded[newimx/2:newimx, 0:newimy/2] = np.flipud(im_all[4].data) # im_all[4].data[::-1]\n",
    "    \n",
    "    # northwest\n",
    "    im_padded[(newimx/2):(newimx), newimy/2:(newimy)] = np.fliplr(np.flipud(im_all[3].data)) # im_all[3].data[::-1,::-1]\n",
    "    \n",
    "    # southeast\n",
    "    im_padded[0:newimx/2, 0:newimy/2] = im_all[2].data\n",
    "    \n",
    "    # southwest\n",
    "    im_padded[0:newimx/2, newimy/2:newimy] = np.fliplr(im_all[1].data)\n",
    "\n",
    "    return im_padded, im_header\n",
    "        "
   ]
  },
  {
   "cell_type": "markdown",
   "metadata": {},
   "source": [
    "### In the cell below, try out the read_raw_fits function on a single test flatfield image."
   ]
  },
  {
   "cell_type": "code",
   "execution_count": 5,
   "metadata": {
    "collapsed": false
   },
   "outputs": [],
   "source": [
    "# complete this:\n",
    "\n",
    "test_mosaic_flat, test_mosaic_header = read_raw_fits('./sampleflats/iflats/c8131t0004f00.fits', final_imx, final_imy)"
   ]
  },
  {
   "cell_type": "markdown",
   "metadata": {},
   "source": [
    "### Now save the file you've just read as a new FITS file. Call it *test_mosaic.fits*:"
   ]
  },
  {
   "cell_type": "code",
   "execution_count": 6,
   "metadata": {
    "collapsed": false
   },
   "outputs": [],
   "source": [
    "# complete this: your code to save the new file here\n",
    "\n",
    "fits.writeto('test_mosaic.fits', test_mosaic_flat, test_mosaic_header, overwrite=True)"
   ]
  },
  {
   "cell_type": "markdown",
   "metadata": {},
   "source": [
    "### Test the before/after FITS files by opening them in ds9. How did it work?\n",
    "\n",
    "(Open the old one with File -> Open As -> Mosaic IRAF; the new one should open like a regular FITS file.)"
   ]
  },
  {
   "cell_type": "code",
   "execution_count": 7,
   "metadata": {
    "collapsed": false
   },
   "outputs": [],
   "source": [
    "# Note to KWD: Remove this cell!\n",
    "\n",
    "# Make a master bias frame. First, create a list of the raw bias frames using glob. Complete this:\n",
    "\n",
    "biases = glob.glob('./samplebias/c8130t0733b00.fits')\n",
    "\n",
    "def create_master_bias(biaslist, newimx, newimy):\n",
    "    \"\"\"\n",
    "    [add your own docstring here to describe the purpose of this function, filling out template below]\n",
    "\n",
    "    Purpose: \n",
    "    \n",
    "    Input:\n",
    "    \n",
    "    Returns:\n",
    "    \n",
    "    Example Usage:\n",
    "    \"\"\"\n",
    "    \n",
    "    im = fits.open(biaslist[0])\n",
    "    \n",
    "    biasim_h = im[0].header\n",
    "\n",
    "    bias_cube = np.zeros([newimx, newimy, len(biaslist)])\n",
    "\n",
    "    for ii in range(0, len(biaslist)):\n",
    "        im, tmp = read_raw_fits(biaslist[ii], newimx, newimy)\n",
    "        bias_cube[:,:,ii] = im\n",
    "    \n",
    "    median_bias = np.median(bias_cube, axis=2)\n",
    "    return median_bias, biasim_h"
   ]
  },
  {
   "cell_type": "markdown",
   "metadata": {},
   "source": [
    "## (to remove?) In the cell below, make the master bias and save it."
   ]
  },
  {
   "cell_type": "code",
   "execution_count": 8,
   "metadata": {
    "collapsed": false
   },
   "outputs": [
    {
     "name": "stdout",
     "output_type": "stream",
     "text": [
      "('Total time to run: ', 4.164528846740723, 'sec')\n"
     ]
    }
   ],
   "source": [
    "# Note to KWD: Remove this cell!\n",
    "\n",
    "# make a note of the time\n",
    "t0 = time.time()\n",
    "\n",
    "# complete this:\n",
    "\n",
    "master_bias, biasim_h = create_master_bias(biases, final_imx, final_imy)\n",
    "\n",
    "# save the test bias\n",
    "fits.writeto('test_bias.fits', master_bias, biasim_h, overwrite=True)\n",
    "\n",
    "# make a note of the time\n",
    "t1 = time.time()\n",
    "\n",
    "# determine how long it took:\n",
    "total = t1-t0\n",
    "\n",
    "print(\"Total time to run: \", total, \"sec\")"
   ]
  },
  {
   "cell_type": "markdown",
   "metadata": {},
   "source": [
    "## old bias-correction function"
   ]
  },
  {
   "cell_type": "code",
   "execution_count": 9,
   "metadata": {
    "collapsed": false
   },
   "outputs": [],
   "source": [
    "def bias_correct(fits_im, medbias, newimx, newimy):\n",
    "    \"\"\"\n",
    "    Purpose: \n",
    "    For a given FITS image (fits_im), and a master bias frame (medbias), read in fits_im and measure the \n",
    "    overscan values for each quadrant, and measure the bias values for each quadrant in the master bias (medbias).\n",
    "    Then, apply offsets to the master bias quadrants to make them match the overscan, in order to be able to\n",
    "    subtract the appropriate bias level from each quadrant in the actual FITS image of interest.\n",
    "        \n",
    "    Input: \n",
    "    fits_im - raw science (or flat) frame to be corrected\n",
    "    medbias - generic master bias constructed from a set of raw biases\n",
    "    newimx - dimensions in x-axis \n",
    "    newimy - dimensions in y-axis \n",
    "    \n",
    "    Returns: \n",
    "    corr_image - a bias-corrected version of the input science (or flat) image\n",
    "    scale_xx - scale factor between the overscan level and bias quadrant level, per quadrant. xx can stand for \n",
    "                upper left (ul), upper right (ur), lower left (ll), and lower right (lr).\n",
    "                \n",
    "    Example Usage: \n",
    "    \n",
    "    \n",
    "    \"\"\"\n",
    "    # First, make your input science (or flat) image into a mosaic:\n",
    "    imframe, imframe_hdr = read_raw_fits(fits_im, newimx, newimy)\n",
    "    \n",
    "    #[newimx/2:newimx, 0:newimy/2] => upper left quadrant\n",
    "    overscan_ul = np.median(imframe[newimx/2:newimx, (newimy/2. - 108):newimy/2]) \n",
    "    bias_ul = np.median(medbias[newimx/2:newimx, 0:newimy/2]) # use this one\n",
    "    bias_ul = np.median(medbias[newimx/2:newimx, (newimy/2. - 108):newimy/2]) \n",
    "    scale_ul = overscan_ul/bias_ul\n",
    "    diff_ul = overscan_ul - bias_ul\n",
    "\n",
    "    # [(newimx/2):(newimx), newimy/2:(newimy)] => upper right quadrant\n",
    "    overscan_ur = np.median(imframe[(newimx/2):(newimx), newimy/2:(newimy/2 + 108)])\n",
    "    bias_ur = np.median(medbias[(newimx/2):(newimx), newimy/2:(newimy)]) # use this one\n",
    "    bias_ur = np.median(medbias[(newimx/2):(newimx), newimy/2:(newimy/2 + 108)])\n",
    "    scale_ur = overscan_ur/bias_ur\n",
    "    diff_ur = overscan_ur - bias_ur\n",
    "\n",
    "    # [0:newimx/2, 0:newimy/2] => lower left quadrant\n",
    "    overscan_ll = np.median(imframe[0:newimx/2, (newimy/2-108):newimy/2])\n",
    "    bias_ll = np.median(medbias[0:newimx/2, 0:newimy/2]) # use this one\n",
    "    bias_ll = np.median(medbias[0:newimx/2, (newimy/2-108):newimy/2])\n",
    "    scale_ll = overscan_ll/bias_ll\n",
    "    diff_ll = overscan_ll - bias_ll\n",
    "    \n",
    "    # [0:newimx/2, newimy/2:newimy] => lower right quadrant\n",
    "    overscan_lr = np.median(imframe[0:newimx/2, (newimy/2):(newimy/2)+108])\n",
    "    bias_lr = np.median(medbias[0:newimx/2, newimy/2:newimy]) # use this one\n",
    "    bias_lr = np.median(medbias[0:newimx/2, (newimy/2):(newimy/2)+108])\n",
    "    scale_lr = overscan_lr/bias_lr\n",
    "    diff_lr = overscan_lr - bias_lr\n",
    "    \n",
    "\n",
    "    # Now re-scale each part of the master bias to match the overscan median, by first making a new empty image\n",
    "\n",
    "    corr_bias = np.zeros([newimx, newimy])\n",
    "    \n",
    "    \n",
    "    # Now apply the scaling factor to each quadrant in turn:\n",
    "\n",
    "#     # ul\n",
    "#     corr_bias[newimx/2:newimx, 0:newimy/2] = medbias[newimx/2:newimx, 0:newimy/2]*scale_ul \n",
    "\n",
    "#     # ur\n",
    "#     corr_bias[(newimx/2):(newimx), newimy/2:(newimy)] = medbias[(newimx/2):(newimx), newimy/2:(newimy)]*scale_ur \n",
    "\n",
    "#     # ll\n",
    "#     corr_bias[0:newimx/2, 0:newimy/2] = medbias[0:newimx/2, 0:newimy/2]*scale_ll \n",
    "\n",
    "#     # lr\n",
    "#     corr_bias[0:newimx/2, newimy/2:newimy] = medbias[0:newimx/2, newimy/2:newimy]*scale_lr \n",
    "    \n",
    "    \n",
    "    # try it with diff\n",
    "    \n",
    "        # ul\n",
    "    corr_bias[newimx/2:newimx, 0:newimy/2] = medbias[newimx/2:newimx, 0:newimy/2] + diff_ul\n",
    "    \n",
    "\n",
    "    # ur\n",
    "    corr_bias[(newimx/2):(newimx), newimy/2:(newimy)] = medbias[(newimx/2):(newimx), newimy/2:(newimy)] + diff_ur\n",
    "    \n",
    "\n",
    "    # ll\n",
    "    corr_bias[0:newimx/2, 0:newimy/2] = medbias[0:newimx/2, 0:newimy/2] + diff_ll\n",
    "    \n",
    "\n",
    "    # lr\n",
    "    corr_bias[0:newimx/2, newimy/2:newimy] = medbias[0:newimx/2, newimy/2:newimy] + diff_lr\n",
    "    \n",
    "    \n",
    "\n",
    "    \n",
    "    # Lastly, subtract your newly-scaled bias from the mosaic image:\n",
    "    \n",
    "    bias_corr_image = imframe - corr_bias\n",
    "    \n",
    "    return bias_corr_image, corr_bias, imframe_hdr, scale_lr, scale_ll, scale_ur, scale_ul\n"
   ]
  },
  {
   "cell_type": "markdown",
   "metadata": {},
   "source": [
    "## actual bias-correction function"
   ]
  },
  {
   "cell_type": "code",
   "execution_count": 10,
   "metadata": {
    "collapsed": true
   },
   "outputs": [],
   "source": [
    "def overscan_only_bias_correct(fits_im, newimx, newimy):\n",
    "    \"\"\"\n",
    "    Purpose: \n",
    "    For a given FITS image (fits_im), read in imframe and measure the mean overscan values for each of its quadrants.\n",
    "    Then, apply the offsets to each quadrant -- that is, subtract the appropriate bias level from each quadrant \n",
    "    in the FITS image of interest.\n",
    "        \n",
    "    Input: \n",
    "    fits_im - raw science (or flat) frame to be corrected\n",
    "    newimx - dimensions in x-axis \n",
    "    newimy - dimensions in y-axis \n",
    "    \n",
    "    Returns: \n",
    "    corr_image - a bias-corrected version of the input science (or flat) image\n",
    "    im_hdr - header of the input science (or flat) image\n",
    "                \n",
    "    Example Usage: \n",
    "    new_corrected_im, corrected_im_header = overscan_only_bias_correct('image.fits', x_image_size, y_image_size)\n",
    "    \"\"\"\n",
    "    \n",
    "    # First, make your input science (or flat) image into a mosaic:\n",
    "    imframe, imframe_hdr = read_raw_fits(fits_im, newimx, newimy)\n",
    "\n",
    "    \n",
    "    # Measure the overscans for each quadrant: \n",
    "    \n",
    "    #[newimx/2:newimx, 0:newimy/2] => upper left quadrant\n",
    "    overscan_ul = np.median(imframe[newimx/2:newimx, (newimy/2 - 108):newimy/2]) \n",
    "    \n",
    "    # [(newimx/2):(newimx), newimy/2:(newimy)] => upper right quadrant\n",
    "    overscan_ur = np.median(imframe[(newimx/2):(newimx), newimy/2:(newimy/2 + 108)])\n",
    "    \n",
    "    # [0:newimx/2, 0:newimy/2] => lower left quadrant\n",
    "    overscan_ll = np.median(imframe[0:newimx/2, (newimy/2-108):newimy/2])\n",
    "\n",
    "    # [0:newimx/2, newimy/2:newimy] => lower right quadrant\n",
    "    overscan_lr = np.median(imframe[0:newimx/2, (newimy/2):(newimy/2)+108])\n",
    "\n",
    "    \n",
    "\n",
    "    # Now make a new empty image to place each subtracted quadrant\n",
    "    corr_im = np.zeros([newimx, newimy])\n",
    "\n",
    "    # ul\n",
    "    corr_im[newimx/2:newimx, 0:newimy/2] = imframe[newimx/2:newimx, 0:newimy/2]- overscan_ul\n",
    "\n",
    "    # ur\n",
    "    corr_im[(newimx/2):(newimx), newimy/2:(newimy)] = imframe[(newimx/2):(newimx), newimy/2:(newimy)] - overscan_ur\n",
    "\n",
    "    # ll\n",
    "    corr_im[0:newimx/2, 0:newimy/2] = imframe[0:newimx/2, 0:newimy/2] - overscan_ll\n",
    "\n",
    "    # lr\n",
    "    corr_im[0:newimx/2, newimy/2:newimy] = imframe[0:newimx/2, newimy/2:newimy] - overscan_lr\n",
    "    \n",
    "    return corr_im, imframe_hdr\n"
   ]
  },
  {
   "cell_type": "code",
   "execution_count": 17,
   "metadata": {
    "collapsed": false
   },
   "outputs": [
    {
     "name": "stderr",
     "output_type": "stream",
     "text": [
      "/Users/Kim/Software/anaconda/lib/python2.7/site-packages/ipykernel/__main__.py:28: DeprecationWarning: using a non-integer number instead of an integer will result in an error in the future\n",
      "/Users/Kim/Software/anaconda/lib/python2.7/site-packages/ipykernel/__main__.py:30: DeprecationWarning: using a non-integer number instead of an integer will result in an error in the future\n"
     ]
    }
   ],
   "source": [
    "bias_corr_image, corr_bias, hdr1, scale_lr, scale_ll, scale_ur, scale_ul = bias_correct('./sampleflats/vflats/c8130t0742f00.fits', master_bias, final_imx, final_imy)"
   ]
  },
  {
   "cell_type": "code",
   "execution_count": 18,
   "metadata": {
    "collapsed": false
   },
   "outputs": [],
   "source": [
    "bias_corr_image_overscan, hdr2 = overscan_only_bias_correct('./sampleflats/vflats/c8130t0742f00.fits', final_imx, final_imy)"
   ]
  },
  {
   "cell_type": "code",
   "execution_count": 19,
   "metadata": {
    "collapsed": true
   },
   "outputs": [],
   "source": [
    "# Write the file:\n",
    "fits.writeto('corr_flat_overscan_only_V.fits', bias_corr_image_overscan, hdr, overwrite=True)"
   ]
  },
  {
   "cell_type": "code",
   "execution_count": 20,
   "metadata": {
    "collapsed": true
   },
   "outputs": [],
   "source": [
    "fits.writeto('corr_flat_V.fits', bias_corr_image, hdr, overwrite=True)"
   ]
  },
  {
   "cell_type": "code",
   "execution_count": 21,
   "metadata": {
    "collapsed": true
   },
   "outputs": [],
   "source": [
    "diff = bias_corr_image_overscan - bias_corr_image"
   ]
  },
  {
   "cell_type": "code",
   "execution_count": 22,
   "metadata": {
    "collapsed": false
   },
   "outputs": [
    {
     "data": {
      "text/plain": [
       "4.0"
      ]
     },
     "execution_count": 22,
     "metadata": {},
     "output_type": "execute_result"
    }
   ],
   "source": [
    "np.median(diff)"
   ]
  },
  {
   "cell_type": "code",
   "execution_count": 23,
   "metadata": {
    "collapsed": false
   },
   "outputs": [
    {
     "data": {
      "text/plain": [
       "8.2472237424615358"
      ]
     },
     "execution_count": 23,
     "metadata": {},
     "output_type": "execute_result"
    }
   ],
   "source": [
    "np.std(diff)"
   ]
  },
  {
   "cell_type": "code",
   "execution_count": 24,
   "metadata": {
    "collapsed": true
   },
   "outputs": [],
   "source": [
    "fits.writeto('diff_flat_V.fits', diff, hdr1, overwrite=True)"
   ]
  },
  {
   "cell_type": "code",
   "execution_count": null,
   "metadata": {
    "collapsed": true
   },
   "outputs": [],
   "source": []
  }
 ],
 "metadata": {
  "kernelspec": {
   "display_name": "Python 2",
   "language": "python",
   "name": "python2"
  },
  "language_info": {
   "codemirror_mode": {
    "name": "ipython",
    "version": 2
   },
   "file_extension": ".py",
   "mimetype": "text/x-python",
   "name": "python",
   "nbconvert_exporter": "python",
   "pygments_lexer": "ipython2",
   "version": "2.7.12"
  }
 },
 "nbformat": 4,
 "nbformat_minor": 0
}
